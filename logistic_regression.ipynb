{
  "nbformat": 4,
  "nbformat_minor": 0,
  "metadata": {
    "colab": {
      "name": "18l-1112.ipynb",
      "provenance": [],
      "collapsed_sections": [],
      "include_colab_link": true
    },
    "kernelspec": {
      "name": "python3",
      "display_name": "Python 3"
    },
    "language_info": {
      "name": "python"
    }
  },
  "cells": [
    {
      "cell_type": "markdown",
      "metadata": {
        "id": "view-in-github",
        "colab_type": "text"
      },
      "source": [
        "<a href=\"https://colab.research.google.com/github/saadahmedsh/logistic_regression/blob/main/logistic_regression.ipynb\" target=\"_parent\"><img src=\"https://colab.research.google.com/assets/colab-badge.svg\" alt=\"Open In Colab\"/></a>"
      ]
    },
    {
      "cell_type": "code",
      "metadata": {
        "colab": {
          "resources": {
            "http://localhost:8080/nbextensions/google.colab/files.js": {
              "data": "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",
              "ok": true,
              "headers": [
                [
                  "content-type",
                  "application/javascript"
                ]
              ],
              "status": 200,
              "status_text": ""
            }
          },
          "base_uri": "https://localhost:8080/",
          "height": 130
        },
        "id": "_thLzOrEOQ_q",
        "outputId": "e95e6c2a-6ea1-41a4-837d-f42daa06423a"
      },
      "source": [
        "from google.colab import files\n",
        "import pandas as pd\n",
        "\n",
        "dataset_1=files.upload()\n",
        "dataset_2=files.upload()\n",
        "\n",
        "df_1=pd.read_csv('ex2data1.txt')\n",
        "df_2=pd.read_csv('ex2data2.txt')\n",
        "\n"
      ],
      "execution_count": null,
      "outputs": [
        {
          "output_type": "display_data",
          "data": {
            "text/html": [
              "\n",
              "     <input type=\"file\" id=\"files-63fccf57-58cf-4a45-b3c0-4c1145af270b\" name=\"files[]\" multiple disabled\n",
              "        style=\"border:none\" />\n",
              "     <output id=\"result-63fccf57-58cf-4a45-b3c0-4c1145af270b\">\n",
              "      Upload widget is only available when the cell has been executed in the\n",
              "      current browser session. Please rerun this cell to enable.\n",
              "      </output>\n",
              "      <script src=\"/nbextensions/google.colab/files.js\"></script> "
            ],
            "text/plain": [
              "<IPython.core.display.HTML object>"
            ]
          },
          "metadata": {}
        },
        {
          "output_type": "stream",
          "name": "stdout",
          "text": [
            "Saving ex2data1.txt to ex2data1.txt\n"
          ]
        },
        {
          "output_type": "display_data",
          "data": {
            "text/html": [
              "\n",
              "     <input type=\"file\" id=\"files-84b54772-014c-4b07-b3d9-a9cf3bfe0cf7\" name=\"files[]\" multiple disabled\n",
              "        style=\"border:none\" />\n",
              "     <output id=\"result-84b54772-014c-4b07-b3d9-a9cf3bfe0cf7\">\n",
              "      Upload widget is only available when the cell has been executed in the\n",
              "      current browser session. Please rerun this cell to enable.\n",
              "      </output>\n",
              "      <script src=\"/nbextensions/google.colab/files.js\"></script> "
            ],
            "text/plain": [
              "<IPython.core.display.HTML object>"
            ]
          },
          "metadata": {}
        },
        {
          "output_type": "stream",
          "name": "stdout",
          "text": [
            "Saving ex2data2.txt to ex2data2.txt\n"
          ]
        }
      ]
    },
    {
      "cell_type": "code",
      "metadata": {
        "colab": {
          "base_uri": "https://localhost:8080/",
          "height": 280
        },
        "id": "ewQiDj0VPZI8",
        "outputId": "90d56943-0f81-4459-df56-da11894255c9"
      },
      "source": [
        "#visualizing the data\n",
        "import numpy as np\n",
        "import matplotlib.pyplot as plt\n",
        "\n",
        "x = df_1.iloc[:, :-1]\n",
        "y = df_1.iloc[:, -1]\n",
        "m=len(df_1)\n",
        "z=np.ones(m)\n",
        "z=z.reshape(m,1)\n",
        "x=np.append(z,x, axis=1)\n",
        "theta=np.zeros(x.shape[1])\n",
        "theta=theta.reshape(x.shape[1], 1)\n",
        "m=df_1.shape[0]\n",
        "admitted = df_1.loc[y == 1]\n",
        "not_admitted = df_1.loc[y == 0]\n",
        "plt.scatter(admitted.iloc[:, 0], admitted.iloc[:, 1], s=10, label='Admitted')\n",
        "plt.scatter(not_admitted.iloc[:, 0], not_admitted.iloc[:, 1], s=10, label='Not Admitted')\n",
        "plt.xlabel('Exam_1')\n",
        "plt.ylabel('Exam_2')\n",
        "plt.legend()\n",
        "plt.show()\n"
      ],
      "execution_count": null,
      "outputs": [
        {
          "output_type": "display_data",
          "data": {
            "image/png": "[encoded data removed]",
            "text/plain": [
              "<Figure size 432x288 with 1 Axes>"
            ]
          },
          "metadata": {
            "needs_background": "light"
          }
        }
      ]
    },
    {
      "cell_type": "code",
      "metadata": {
        "id": "rq48WpSfW_cR"
      },
      "source": [
        "def predicted_value(x,theta):\n",
        "  return sigmoid(np.dot(x, theta))  #calculates sigmoid of hypothesis"
      ],
      "execution_count": null,
      "outputs": []
    },
    {
      "cell_type": "code",
      "metadata": {
        "id": "xo3pHZjBWAkP"
      },
      "source": [
        "def sigmoid(n):\n",
        "  return 1 / (1 + np.exp(-n))"
      ],
      "execution_count": null,
      "outputs": []
    },
    {
      "cell_type": "code",
      "metadata": {
        "id": "suMh-7-wWfQn",
        "colab": {
          "base_uri": "https://localhost:8080/"
        },
        "outputId": "305fa782-2331-488f-898f-0caaa5a137a2"
      },
      "source": [
        "def cost_function():\n",
        "  cost=0\n",
        "  for i in range(0, len(x)):\n",
        "    cost += y[i] * np.log(predicted_value(x[i], theta)) + (1 - y[i]) * np.log(\n",
        "            1 - predicted_value(x[i], theta) + 0.1)\n",
        "  cost *= -(1 / m) \n",
        "  return cost\n",
        "\n",
        "cost_function()\n"
      ],
      "execution_count": null,
      "outputs": [
        {
          "output_type": "execute_result",
          "data": {
            "text/plain": [
              "array([0.62132354])"
            ]
          },
          "metadata": {},
          "execution_count": 5
        }
      ]
    },
    {
      "cell_type": "code",
      "metadata": {
        "id": "YDGpuxe2bpox"
      },
      "source": [
        "learning_rate=0.1\n",
        "iterations=10000"
      ],
      "execution_count": null,
      "outputs": []
    },
    {
      "cell_type": "code",
      "metadata": {
        "id": "vVKQCNd6UxwU",
        "colab": {
          "base_uri": "https://localhost:8080/"
        },
        "outputId": "aab505d3-502a-42bd-df70-05e41035ec3e"
      },
      "source": [
        "def gradient_descent(theta):\n",
        "  for j in range(0,iterations):\n",
        "    for i in range(0, 99):\n",
        "      predicted = sigmoid(np.dot(x[i], theta)) - y[i]\n",
        "      gradient = (predicted * x[i].reshape(3,1)) \n",
        "      theta -= (gradient * learning_rate/m)\n",
        "    \n",
        "    \n",
        "\n",
        "gradient_descent(theta)\n",
        "theta\n"
      ],
      "execution_count": null,
      "outputs": [
        {
          "output_type": "execute_result",
          "data": {
            "text/plain": [
              "array([[-26.67068018],\n",
              "       [  0.27078918],\n",
              "       [  0.23098585]])"
            ]
          },
          "metadata": {},
          "execution_count": 7
        }
      ]
    },
    {
      "cell_type": "code",
      "metadata": {
        "colab": {
          "base_uri": "https://localhost:8080/"
        },
        "id": "tAP23WHjVBvw",
        "outputId": "cf956531-42db-4b86-ac87-bcf645b88ee8"
      },
      "source": [
        "cost_function()"
      ],
      "execution_count": null,
      "outputs": [
        {
          "output_type": "execute_result",
          "data": {
            "text/plain": [
              "array([0.34030953])"
            ]
          },
          "metadata": {},
          "execution_count": 8
        }
      ]
    },
    {
      "cell_type": "code",
      "metadata": {
        "colab": {
          "base_uri": "https://localhost:8080/",
          "height": 279
        },
        "id": "nUEmUmQOXd4e",
        "outputId": "aab0a993-b584-4c94-c915-609306b305f8"
      },
      "source": [
        "x_values = [np.min(x[:, 1] - 5), np.max(x[:, 2] + 5)]\n",
        "y_values = - (theta[0] + np.dot(np.array(x_values).reshape(2,1), theta[1])) / theta[2]\n",
        "\n",
        "plt.plot(x_values, y_values, label='Decision Boundary')\n",
        "plt.xlabel('Marks in 1st Exam')\n",
        "plt.ylabel('Marks in 2nd Exam')\n",
        "admitted = df_1.loc[y == 1]\n",
        "not_admitted = df_1.loc[y == 0]\n",
        "plt.scatter(admitted.iloc[:, 0], admitted.iloc[:, 1], s=10, label='Admitted')\n",
        "plt.scatter(not_admitted.iloc[:, 0], not_admitted.iloc[:, 1], s=10, label='Not Admitted')\n",
        "plt.legend()\n",
        "plt.show()\n"
      ],
      "execution_count": null,
      "outputs": [
        {
          "output_type": "display_data",
          "data": {
            "image/png": "[encoded data removed]",
            "text/plain": [
              "<Figure size 432x288 with 1 Axes>"
            ]
          },
          "metadata": {
            "needs_background": "light"
          }
        }
      ]
    },
    {
      "cell_type": "code",
      "metadata": {
        "colab": {
          "base_uri": "https://localhost:8080/",
          "height": 280
        },
        "id": "uVIHk-fmkfRt",
        "outputId": "b58004df-9b25-493c-fab2-62de02deba44"
      },
      "source": [
        "x_2 = df_2.iloc[:, :-1]\n",
        "y_2 = df_2.iloc[:, -1]\n",
        "m=len(df_2)\n",
        "passed = df_2.loc[y_2 == 1]\n",
        "failed = df_2.loc[y_2  == 0]\n",
        "plt.scatter(passed.iloc[:, 0], passed.iloc[:, 1], s=10, label='pass')\n",
        "plt.scatter(failed.iloc[:, 0], failed.iloc[:, 1], s=10, label='fail')\n",
        "plt.xlabel('Test_1')\n",
        "plt.ylabel('Test_2')\n",
        "plt.legend()\n",
        "plt.show()\n",
        "\n"
      ],
      "execution_count": null,
      "outputs": [
        {
          "output_type": "display_data",
          "data": {
            "image/png": "[encoded data removed]",
            "text/plain": [
              "<Figure size 432x288 with 1 Axes>"
            ]
          },
          "metadata": {
            "needs_background": "light"
          }
        }
      ]
    },
    {
      "cell_type": "code",
      "metadata": {
        "id": "HeBKQobjCAzJ"
      },
      "source": [
        "feature_1=x_2[x_2.columns[0]]\n",
        "feature_2=x_2[x_2.columns[1]]"
      ],
      "execution_count": null,
      "outputs": []
    },
    {
      "cell_type": "code",
      "metadata": {
        "colab": {
          "base_uri": "https://localhost:8080/"
        },
        "id": "oSL6A3Ns8iop",
        "outputId": "fb35dfef-bcc4-419c-a98c-3e8f69dff9c8"
      },
      "source": [
        "def map_feature(degree):\n",
        "    features = np.ones(x_2.shape[0])[:,np.newaxis]\n",
        "    for i in range(1, degree+1):\n",
        "        for j in range(i+1):\n",
        "            features = np.hstack((features, np.multiply(np.power(feature_1, i-j),np.power(feature_2, j))[:,np.newaxis]))\n",
        "    return features\n",
        "hypothesis_features = map_feature(6)\n"
      ],
      "execution_count": null,
      "outputs": [
        {
          "output_type": "stream",
          "name": "stderr",
          "text": [
            "/usr/local/lib/python3.7/dist-packages/ipykernel_launcher.py:5: FutureWarning: Support for multi-dimensional indexing (e.g. `obj[:, None]`) is deprecated and will be removed in a future version.  Convert to a numpy array before indexing instead.\n",
            "  \"\"\"\n"
          ]
        }
      ]
    },
    {
      "cell_type": "code",
      "metadata": {
        "colab": {
          "base_uri": "https://localhost:8080/"
        },
        "id": "HsO3hpDqJzdh",
        "outputId": "a5f0caba-c62d-4853-aa6a-f53d6e1d7b0d"
      },
      "source": [
        "theta=np.zeros(hypothesis_features.shape[1])\n",
        "__lambda=0.1\n",
        "theta"
      ],
      "execution_count": null,
      "outputs": [
        {
          "output_type": "execute_result",
          "data": {
            "text/plain": [
              "array([0., 0., 0., 0., 0., 0., 0., 0., 0., 0., 0., 0., 0., 0., 0., 0., 0.,\n",
              "       0., 0., 0., 0., 0., 0., 0., 0., 0., 0., 0.])"
            ]
          },
          "metadata": {},
          "execution_count": 13
        }
      ]
    },
    {
      "cell_type": "code",
      "metadata": {
        "id": "akDW5b4FSQKG"
      },
      "source": [
        "learning_rate=0.1"
      ],
      "execution_count": null,
      "outputs": []
    },
    {
      "cell_type": "code",
      "metadata": {
        "id": "Am1WptLkCtib"
      },
      "source": [
        "def cost_function_regularzied():\n",
        "  cost = 0\n",
        "  regularized_feature = 0\n",
        "  for i in range(0, len(hypothesis_features)):\n",
        "    cost += y_2[i] * np.log(predicted_value(hypothesis_features[i], theta)) + (1 - y_2[i]) * np.log(\n",
        "            1 - predicted_value(hypothesis_features[i], theta) + 0.1)\n",
        "    regularized_feature += theta**2\n",
        "  cost *= -(1 / m)\n",
        "  regularized_feature += __lambda/(2*m)\n",
        "  cost + regularized_feature\n",
        "  return cost\n",
        "\n",
        "\n",
        "  "
      ],
      "execution_count": null,
      "outputs": []
    },
    {
      "cell_type": "code",
      "metadata": {
        "id": "eCsDd1zOOWiY"
      },
      "source": [
        "def gradient_descent_regularized(theta):\n",
        "  for j in range(0,iterations):\n",
        "    for i in range(0, 99):\n",
        "      predicted = sigmoid(np.dot(hypothesis_features[i], theta)) - y_2[i]\n",
        "      gradient = predicted * hypothesis_features[i]\n",
        "      gradient += (__lambda / m) * theta\n",
        "      theta -= (gradient * learning_rate/m)\n",
        "\n",
        "\n",
        "gradient_descent_regularized(theta)"
      ],
      "execution_count": null,
      "outputs": []
    },
    {
      "cell_type": "code",
      "metadata": {
        "colab": {
          "base_uri": "https://localhost:8080/"
        },
        "id": "v7icp42RPkEq",
        "outputId": "a51101ac-8923-43ba-89cc-abc6b800d3b8"
      },
      "source": [
        "cost_function_regularzied()"
      ],
      "execution_count": null,
      "outputs": [
        {
          "output_type": "execute_result",
          "data": {
            "text/plain": [
              "0.293047762499692"
            ]
          },
          "metadata": {},
          "execution_count": 17
        }
      ]
    },
    {
      "cell_type": "code",
      "metadata": {
        "colab": {
          "base_uri": "https://localhost:8080/"
        },
        "id": "EcJ1AfnrQRWy",
        "outputId": "339f5f51-e34e-4f92-f053-1a96411a95f0"
      },
      "source": [
        "theta"
      ],
      "execution_count": null,
      "outputs": [
        {
          "output_type": "execute_result",
          "data": {
            "text/plain": [
              "array([ 3.14235632,  1.23423752,  2.35226488, -3.50251039, -2.31556917,\n",
              "       -4.4648039 ,  0.72268564, -1.11845522, -1.22538163, -0.13431373,\n",
              "       -3.27010757,  0.21316165, -1.69215938, -0.88951697, -2.71093052,\n",
              "       -0.67060124, -0.51538694,  0.16456776, -0.89592453, -1.19238523,\n",
              "       -0.08861211, -2.75098469,  0.23370078, -0.72070879,  0.22754203,\n",
              "       -0.99254689, -0.69598894, -1.25755131])"
            ]
          },
          "metadata": {},
          "execution_count": 18
        }
      ]
    },
    {
      "cell_type": "code",
      "metadata": {
        "colab": {
          "base_uri": "https://localhost:8080/",
          "height": 1000
        },
        "id": "JsfZgE-CQd5g",
        "outputId": "ae65e01a-4240-4d09-e4ed-0b37931e2450"
      },
      "source": [
        "u = np.linspace(-1, 1.5, 50)\n",
        "v = np.linspace(-1, 1.5, 50)\n",
        "z = np.zeros((len(u), len(v)))\n",
        "def mapFeatureForPlotting(X1, X2):\n",
        "    degree = 6\n",
        "    out = np.ones(1)\n",
        "    for i in range(1, degree+1):\n",
        "        for j in range(i+1):\n",
        "            out = np.hstack((out, np.multiply(np.power(X1, i-j), np.power(X2, j))))\n",
        "    return out\n",
        "for i in range(len(u)):\n",
        "    for j in range(len(v)):\n",
        "        z[i,j] = np.dot(mapFeatureForPlotting(u[i], v[j]), theta)\n",
        "passed = df_2.loc[y_2 == 1]\n",
        "failed = df_2.loc[y_2  == 0]\n",
        "plt.scatter(passed.iloc[:, 0], passed.iloc[:, 1], s=10, label='pass')\n",
        "plt.scatter(failed.iloc[:, 0], failed.iloc[:, 1], s=10, label='fail')\n",
        "plt.contour(u,v,z,0)\n",
        "plt.xlabel('Microchip Test1')\n",
        "plt.ylabel('Microchip Test2')\n",
        "plt.legend((passed, failed), ('Passed', 'Failed'))\n",
        "plt.show()"
      ],
      "execution_count": null,
      "outputs": [
        {
          "output_type": "stream",
          "name": "stderr",
          "text": [
            "/usr/local/lib/python3.7/dist-packages/ipykernel_launcher.py:21: UserWarning: Legend does not support     0.051267   0.69956  1\n",
            "0  -0.092742  0.684940  1\n",
            "1  -0.213710  0.692250  1\n",
            "2  -0.375000  0.502190  1\n",
            "3  -0.513250  0.465640  1\n",
            "4  -0.524770  0.209800  1\n",
            "5  -0.398040  0.034357  1\n",
            "6  -0.305880 -0.192250  1\n",
            "7   0.016705 -0.404240  1\n",
            "8   0.131910 -0.513890  1\n",
            "9   0.385370 -0.565060  1\n",
            "10  0.529380 -0.521200  1\n",
            "11  0.638820 -0.243420  1\n",
            "12  0.736750 -0.184940  1\n",
            "13  0.546660  0.487570  1\n",
            "14  0.322000  0.582600  1\n",
            "15  0.166470  0.538740  1\n",
            "16 -0.046659  0.816520  1\n",
            "17 -0.173390  0.699560  1\n",
            "18 -0.478690  0.633770  1\n",
            "19 -0.605410  0.597220  1\n",
            "20 -0.628460  0.334060  1\n",
            "21 -0.593890  0.005117  1\n",
            "22 -0.421080 -0.272660  1\n",
            "23 -0.115780 -0.396930  1\n",
            "24  0.201040 -0.601610  1\n",
            "25  0.466010 -0.535820  1\n",
            "26  0.673390 -0.535820  1\n",
            "27 -0.138820  0.546050  1\n",
            "28 -0.294350  0.779970  1\n",
            "29 -0.265550  0.962720  1\n",
            "30 -0.161870  0.801900  1\n",
            "31 -0.173390  0.648390  1\n",
            "32 -0.282830  0.472950  1\n",
            "33 -0.363480  0.312130  1\n",
            "34 -0.300120  0.027047  1\n",
            "35 -0.236750 -0.214180  1\n",
            "36 -0.063940 -0.184940  1\n",
            "37  0.062788 -0.163010  1\n",
            "38  0.229840 -0.411550  1\n",
            "39  0.293200 -0.228800  1\n",
            "40  0.483290 -0.184940  1\n",
            "41  0.644590 -0.141080  1\n",
            "42  0.460250  0.012427  1\n",
            "43  0.627300  0.158630  1\n",
            "44  0.575460  0.268270  1\n",
            "45  0.725230  0.443710  1\n",
            "46  0.224080  0.524120  1\n",
            "47  0.442970  0.670320  1\n",
            "48  0.322000  0.692250  1\n",
            "49  0.137670  0.575290  1\n",
            "50 -0.006336  0.399850  1\n",
            "51 -0.092742  0.553360  1\n",
            "52 -0.207950  0.355990  1\n",
            "53 -0.207950  0.173250  1\n",
            "54 -0.438360  0.217110  1\n",
            "55 -0.219470 -0.016813  1\n",
            "56 -0.138820 -0.272660  1 instances.\n",
            "A proxy artist may be used instead.\n",
            "See: http://matplotlib.org/users/legend_guide.html#creating-artists-specifically-for-adding-to-the-legend-aka-proxy-artists\n",
            "/usr/local/lib/python3.7/dist-packages/ipykernel_launcher.py:21: UserWarning: Legend does not support      0.051267   0.69956  1\n",
            "57   0.183760  0.933480  0\n",
            "58   0.224080  0.779970  0\n",
            "59   0.298960  0.619150  0\n",
            "60   0.506340  0.758040  0\n",
            "61   0.615780  0.728800  0\n",
            "62   0.604260  0.597220  0\n",
            "63   0.765550  0.502190  0\n",
            "64   0.926840  0.363300  0\n",
            "65   0.823160  0.275580  0\n",
            "66   0.961410  0.085526  0\n",
            "67   0.938360  0.012427  0\n",
            "68   0.863480 -0.082602  0\n",
            "69   0.898040 -0.206870  0\n",
            "70   0.851960 -0.367690  0\n",
            "71   0.828920 -0.521200  0\n",
            "72   0.794350 -0.557750  0\n",
            "73   0.592740 -0.740500  0\n",
            "74   0.517860 -0.594300  0\n",
            "75   0.466010 -0.418860  0\n",
            "76   0.350810 -0.579680  0\n",
            "77   0.287440 -0.769740  0\n",
            "78   0.085829 -0.755120  0\n",
            "79   0.149190 -0.579680  0\n",
            "80  -0.133060 -0.448100  0\n",
            "81  -0.409560 -0.411550  0\n",
            "82  -0.392280 -0.258040  0\n",
            "83  -0.743660 -0.258040  0\n",
            "84  -0.697580  0.041667  0\n",
            "85  -0.755180  0.290200  0\n",
            "86  -0.697580  0.684940  0\n",
            "87  -0.403800  0.706870  0\n",
            "88  -0.380760  0.918860  0\n",
            "89  -0.507490  0.904240  0\n",
            "90  -0.547810  0.706870  0\n",
            "91   0.103110  0.779970  0\n",
            "92   0.057028  0.918860  0\n",
            "93  -0.104260  0.991960  0\n",
            "94  -0.081221  1.108900  0\n",
            "95   0.287440  1.087000  0\n",
            "96   0.396890  0.823830  0\n",
            "97   0.638820  0.889620  0\n",
            "98   0.823160  0.663010  0\n",
            "99   0.673390  0.641080  0\n",
            "100  1.070900  0.100150  0\n",
            "101 -0.046659 -0.579680  0\n",
            "102 -0.236750 -0.638160  0\n",
            "103 -0.150350 -0.367690  0\n",
            "104 -0.490210 -0.301900  0\n",
            "105 -0.467170 -0.133770  0\n",
            "106 -0.288590 -0.060673  0\n",
            "107 -0.611180 -0.067982  0\n",
            "108 -0.663020 -0.214180  0\n",
            "109 -0.599650 -0.418860  0\n",
            "110 -0.726380 -0.082602  0\n",
            "111 -0.830070  0.312130  0\n",
            "112 -0.720620  0.538740  0\n",
            "113 -0.593890  0.494880  0\n",
            "114 -0.484450  0.999270  0\n",
            "115 -0.006336  0.999270  0\n",
            "116  0.632650 -0.030612  0 instances.\n",
            "A proxy artist may be used instead.\n",
            "See: http://matplotlib.org/users/legend_guide.html#creating-artists-specifically-for-adding-to-the-legend-aka-proxy-artists\n"
          ]
        },
        {
          "output_type": "display_data",
          "data": {
            "image/png": "[encoded data removed]",
            "text/plain": [
              "<Figure size 432x288 with 1 Axes>"
            ]
          },
          "metadata": {
            "needs_background": "light"
          }
        }
      ]
    }
  ]
}